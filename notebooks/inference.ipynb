import numpy as np
import matplotlib.pyplot as plt
from tensorflow.keras.models import load_model
import cv2

def predict_soil_type(model, image_path, class_names=['Gravel', 'Sand', 'Silt']):
    """Predict soil type from image"""
    
    # Load and preprocess image
    image = cv2.imread(image_path)
    image = cv2.resize(image, (224, 224))
    image = image / 255.0
    image = np.expand_dims(image, axis=0)
    
    # Make prediction
    predictions = model.predict(image)
    predicted_class = np.argmax(predictions[0])
    confidence = np.max(predictions[0])
    
    # Display results
    plt.figure(figsize=(10, 5))
    
    plt.subplot(1, 2, 1)
    plt.imshow(cv2.cvtColor(cv2.imread(image_path), cv2.COLOR_BGR2RGB))
    plt.title(f'Input Image')
    plt.axis('off')
    
    plt.subplot(1, 2, 2)
    plt.bar(class_names, predictions[0])
    plt.title(f'Prediction: {class_names[predicted_class]} ({confidence:.2f})')
    plt.ylabel('Probability')
    
    plt.tight_layout()
    plt.show()
    
    return class_names[predicted_class], confidence

# Load trained model
model = load_model('/content/soil_classifier_model.h5')

# Example usage
image_path = '/content/sample_soil_image.jpg'
predicted_class, confidence = predict_soil_type(model, image_path)
print(f"Predicted soil type: {predicted_class} with confidence: {confidence:.2f}")
