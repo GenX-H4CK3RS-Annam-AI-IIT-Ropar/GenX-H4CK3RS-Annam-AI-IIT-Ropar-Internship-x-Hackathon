{
  "nbformat": 4,
  "nbformat_minor": 0,
  "metadata": {
    "colab": {
      "provenance": [],
      "gpuType": "T4"
    },
    "kernelspec": {
      "name": "python3",
      "display_name": "Python 3"
    },
    "language_info": {
      "name": "python"
    },
    "widgets": {
      "application/vnd.jupyter.widget-state+json": {
        "ace483718e8547878763db65fb117397": {
          "model_module": "@jupyter-widgets/controls",
          "model_name": "HBoxModel",
          "model_module_version": "1.5.0",
          "state": {
            "_dom_classes": [],
            "_model_module": "@jupyter-widgets/controls",
            "_model_module_version": "1.5.0",
            "_model_name": "HBoxModel",
            "_view_count": null,
            "_view_module": "@jupyter-widgets/controls",
            "_view_module_version": "1.5.0",
            "_view_name": "HBoxView",
            "box_style": "",
            "children": [
              "IPY_MODEL_7473aeacc6444210bb5e9cbe93c0a8e5",
              "IPY_MODEL_4731241993e14f2fb4aed124330bf333",
              "IPY_MODEL_0c27e8c7875747e8b5a0e51067adb01f"
            ],
            "layout": "IPY_MODEL_b89b67415bca4bb1affe9d5d74c1f6af"
          }
        },
        "7473aeacc6444210bb5e9cbe93c0a8e5": {
          "model_module": "@jupyter-widgets/controls",
          "model_name": "HTMLModel",
          "model_module_version": "1.5.0",
          "state": {
            "_dom_classes": [],
            "_model_module": "@jupyter-widgets/controls",
            "_model_module_version": "1.5.0",
            "_model_name": "HTMLModel",
            "_view_count": null,
            "_view_module": "@jupyter-widgets/controls",
            "_view_module_version": "1.5.0",
            "_view_name": "HTMLView",
            "description": "",
            "description_tooltip": null,
            "layout": "IPY_MODEL_6ac0235904e14a21a295a887d3c9b5ab",
            "placeholder": "​",
            "style": "IPY_MODEL_e3d2c97da1da4975a958a0e6bc71d12a",
            "value": "model.safetensors: 100%"
          }
        },
        "4731241993e14f2fb4aed124330bf333": {
          "model_module": "@jupyter-widgets/controls",
          "model_name": "FloatProgressModel",
          "model_module_version": "1.5.0",
          "state": {
            "_dom_classes": [],
            "_model_module": "@jupyter-widgets/controls",
            "_model_module_version": "1.5.0",
            "_model_name": "FloatProgressModel",
            "_view_count": null,
            "_view_module": "@jupyter-widgets/controls",
            "_view_module_version": "1.5.0",
            "_view_name": "ProgressView",
            "bar_style": "success",
            "description": "",
            "description_tooltip": null,
            "layout": "IPY_MODEL_4db9c811f1854f5d8c9702c78a8a126e",
            "max": 49335454,
            "min": 0,
            "orientation": "horizontal",
            "style": "IPY_MODEL_5ea49b15f9bd4124a8d66c3e506c1323",
            "value": 49335454
          }
        },
        "0c27e8c7875747e8b5a0e51067adb01f": {
          "model_module": "@jupyter-widgets/controls",
          "model_name": "HTMLModel",
          "model_module_version": "1.5.0",
          "state": {
            "_dom_classes": [],
            "_model_module": "@jupyter-widgets/controls",
            "_model_module_version": "1.5.0",
            "_model_name": "HTMLModel",
            "_view_count": null,
            "_view_module": "@jupyter-widgets/controls",
            "_view_module_version": "1.5.0",
            "_view_name": "HTMLView",
            "description": "",
            "description_tooltip": null,
            "layout": "IPY_MODEL_6949f0785a584cea9ee588dce09bc489",
            "placeholder": "​",
            "style": "IPY_MODEL_abe7edeffa6d43fab1cfb4564e4db981",
            "value": " 49.3M/49.3M [00:00&lt;00:00, 375MB/s]"
          }
        },
        "b89b67415bca4bb1affe9d5d74c1f6af": {
          "model_module": "@jupyter-widgets/base",
          "model_name": "LayoutModel",
          "model_module_version": "1.2.0",
          "state": {
            "_model_module": "@jupyter-widgets/base",
            "_model_module_version": "1.2.0",
            "_model_name": "LayoutModel",
            "_view_count": null,
            "_view_module": "@jupyter-widgets/base",
            "_view_module_version": "1.2.0",
            "_view_name": "LayoutView",
            "align_content": null,
            "align_items": null,
            "align_self": null,
            "border": null,
            "bottom": null,
            "display": null,
            "flex": null,
            "flex_flow": null,
            "grid_area": null,
            "grid_auto_columns": null,
            "grid_auto_flow": null,
            "grid_auto_rows": null,
            "grid_column": null,
            "grid_gap": null,
            "grid_row": null,
            "grid_template_areas": null,
            "grid_template_columns": null,
            "grid_template_rows": null,
            "height": null,
            "justify_content": null,
            "justify_items": null,
            "left": null,
            "margin": null,
            "max_height": null,
            "max_width": null,
            "min_height": null,
            "min_width": null,
            "object_fit": null,
            "object_position": null,
            "order": null,
            "overflow": null,
            "overflow_x": null,
            "overflow_y": null,
            "padding": null,
            "right": null,
            "top": null,
            "visibility": null,
            "width": null
          }
        },
        "6ac0235904e14a21a295a887d3c9b5ab": {
          "model_module": "@jupyter-widgets/base",
          "model_name": "LayoutModel",
          "model_module_version": "1.2.0",
          "state": {
            "_model_module": "@jupyter-widgets/base",
            "_model_module_version": "1.2.0",
            "_model_name": "LayoutModel",
            "_view_count": null,
            "_view_module": "@jupyter-widgets/base",
            "_view_module_version": "1.2.0",
            "_view_name": "LayoutView",
            "align_content": null,
            "align_items": null,
            "align_self": null,
            "border": null,
            "bottom": null,
            "display": null,
            "flex": null,
            "flex_flow": null,
            "grid_area": null,
            "grid_auto_columns": null,
            "grid_auto_flow": null,
            "grid_auto_rows": null,
            "grid_column": null,
            "grid_gap": null,
            "grid_row": null,
            "grid_template_areas": null,
            "grid_template_columns": null,
            "grid_template_rows": null,
            "height": null,
            "justify_content": null,
            "justify_items": null,
            "left": null,
            "margin": null,
            "max_height": null,
            "max_width": null,
            "min_height": null,
            "min_width": null,
            "object_fit": null,
            "object_position": null,
            "order": null,
            "overflow": null,
            "overflow_x": null,
            "overflow_y": null,
            "padding": null,
            "right": null,
            "top": null,
            "visibility": null,
            "width": null
          }
        },
        "e3d2c97da1da4975a958a0e6bc71d12a": {
          "model_module": "@jupyter-widgets/controls",
          "model_name": "DescriptionStyleModel",
          "model_module_version": "1.5.0",
          "state": {
            "_model_module": "@jupyter-widgets/controls",
            "_model_module_version": "1.5.0",
            "_model_name": "DescriptionStyleModel",
            "_view_count": null,
            "_view_module": "@jupyter-widgets/base",
            "_view_module_version": "1.2.0",
            "_view_name": "StyleView",
            "description_width": ""
          }
        },
        "4db9c811f1854f5d8c9702c78a8a126e": {
          "model_module": "@jupyter-widgets/base",
          "model_name": "LayoutModel",
          "model_module_version": "1.2.0",
          "state": {
            "_model_module": "@jupyter-widgets/base",
            "_model_module_version": "1.2.0",
            "_model_name": "LayoutModel",
            "_view_count": null,
            "_view_module": "@jupyter-widgets/base",
            "_view_module_version": "1.2.0",
            "_view_name": "LayoutView",
            "align_content": null,
            "align_items": null,
            "align_self": null,
            "border": null,
            "bottom": null,
            "display": null,
            "flex": null,
            "flex_flow": null,
            "grid_area": null,
            "grid_auto_columns": null,
            "grid_auto_flow": null,
            "grid_auto_rows": null,
            "grid_column": null,
            "grid_gap": null,
            "grid_row": null,
            "grid_template_areas": null,
            "grid_template_columns": null,
            "grid_template_rows": null,
            "height": null,
            "justify_content": null,
            "justify_items": null,
            "left": null,
            "margin": null,
            "max_height": null,
            "max_width": null,
            "min_height": null,
            "min_width": null,
            "object_fit": null,
            "object_position": null,
            "order": null,
            "overflow": null,
            "overflow_x": null,
            "overflow_y": null,
            "padding": null,
            "right": null,
            "top": null,
            "visibility": null,
            "width": null
          }
        },
        "5ea49b15f9bd4124a8d66c3e506c1323": {
          "model_module": "@jupyter-widgets/controls",
          "model_name": "ProgressStyleModel",
          "model_module_version": "1.5.0",
          "state": {
            "_model_module": "@jupyter-widgets/controls",
            "_model_module_version": "1.5.0",
            "_model_name": "ProgressStyleModel",
            "_view_count": null,
            "_view_module": "@jupyter-widgets/base",
            "_view_module_version": "1.2.0",
            "_view_name": "StyleView",
            "bar_color": null,
            "description_width": ""
          }
        },
        "6949f0785a584cea9ee588dce09bc489": {
          "model_module": "@jupyter-widgets/base",
          "model_name": "LayoutModel",
          "model_module_version": "1.2.0",
          "state": {
            "_model_module": "@jupyter-widgets/base",
            "_model_module_version": "1.2.0",
            "_model_name": "LayoutModel",
            "_view_count": null,
            "_view_module": "@jupyter-widgets/base",
            "_view_module_version": "1.2.0",
            "_view_name": "LayoutView",
            "align_content": null,
            "align_items": null,
            "align_self": null,
            "border": null,
            "bottom": null,
            "display": null,
            "flex": null,
            "flex_flow": null,
            "grid_area": null,
            "grid_auto_columns": null,
            "grid_auto_flow": null,
            "grid_auto_rows": null,
            "grid_column": null,
            "grid_gap": null,
            "grid_row": null,
            "grid_template_areas": null,
            "grid_template_columns": null,
            "grid_template_rows": null,
            "height": null,
            "justify_content": null,
            "justify_items": null,
            "left": null,
            "margin": null,
            "max_height": null,
            "max_width": null,
            "min_height": null,
            "min_width": null,
            "object_fit": null,
            "object_position": null,
            "order": null,
            "overflow": null,
            "overflow_x": null,
            "overflow_y": null,
            "padding": null,
            "right": null,
            "top": null,
            "visibility": null,
            "width": null
          }
        },
        "abe7edeffa6d43fab1cfb4564e4db981": {
          "model_module": "@jupyter-widgets/controls",
          "model_name": "DescriptionStyleModel",
          "model_module_version": "1.5.0",
          "state": {
            "_model_module": "@jupyter-widgets/controls",
            "_model_module_version": "1.5.0",
            "_model_name": "DescriptionStyleModel",
            "_view_count": null,
            "_view_module": "@jupyter-widgets/base",
            "_view_module_version": "1.2.0",
            "_view_name": "StyleView",
            "description_width": ""
          }
        }
      }
    },
    "accelerator": "GPU"
  },
  "cells": [
    {
      "cell_type": "code",
      "source": [
        "import torch.nn as nn\n",
        "import torch.optim as optim\n",
        "from torchvision import datasets, transforms\n",
        "from torch.utils.data import DataLoader, WeightedRandomSampler\n",
        "import timm"
      ],
      "metadata": {
        "id": "JRuOBGbheNnk"
      },
      "execution_count": 1,
      "outputs": []
    },
    {
      "cell_type": "code",
      "source": [
        "import torch\n",
        "import os\n",
        "from sklearn.metrics import classification_report\n",
        "import numpy as np"
      ],
      "metadata": {
        "id": "8O-VV2zDelJA"
      },
      "execution_count": 2,
      "outputs": []
    },
    {
      "cell_type": "code",
      "source": [
        "data_augmenter = transforms.Compose([\n",
        "    transforms.Resize((256,256)),\n",
        "    transforms.RandomHorizontalFlip(p=0.5),\n",
        "    transforms.RandomVerticalFlip(p=0.5),\n",
        "    transforms.ColorJitter(brightness=0.2,contrast=0.2,saturation=0.2),\n",
        "    transforms.GaussianBlur(3) ,\n",
        "    transforms.ToTensor(),\n",
        "    transforms.Normalize([0.485, 0.456, 0.406],\n",
        "                         [0.229, 0.224, 0.225])\n",
        "])\n",
        "\n",
        "test_transformer = transforms.Compose([\n",
        "    transforms.Resize((256,256)),\n",
        "    transforms.ToTensor(),\n",
        "    transforms.Normalize([0.485, 0.456, 0.406],\n",
        "                         [0.229, 0.224, 0.225])\n",
        "])"
      ],
      "metadata": {
        "id": "-jDkzpOfey9A"
      },
      "execution_count": 3,
      "outputs": []
    },
    {
      "cell_type": "code",
      "source": [
        "import csv\n",
        "with open(r\"/content/drive/MyDrive/Annam ai/soil_classification-2025/train_labels.csv\") as f:\n",
        "  image = {}\n",
        "  for i in csv.reader(f):\n",
        "    try: image[i[1]] += 1\n",
        "    except: image[i[1]] = 1\n",
        "  print(image)"
      ],
      "metadata": {
        "colab": {
          "base_uri": "https://localhost:8080/"
        },
        "id": "UULPQ-clknFz",
        "outputId": "8aae0838-734c-427c-918e-b7407ac7a81e"
      },
      "execution_count": 4,
      "outputs": [
        {
          "output_type": "stream",
          "name": "stdout",
          "text": [
            "{'soil_type': 1, 'Alluvial soil': 528, 'Clay soil': 199, 'Red soil': 264, 'Black Soil': 231}\n"
          ]
        }
      ]
    },
    {
      "cell_type": "code",
      "source": [
        "from sklearn.model_selection import train_test_split\n",
        "ifiles,images = {},[]\n",
        "with open(r\"/content/drive/MyDrive/Annam ai/soil_classification-2025/train_labels.csv\") as f:\n",
        "  for row in csv.reader(f):\n",
        "    ifiles[row[0]] = row[1]\n",
        "    images.append(row[0])\n",
        "  train,val = train_test_split(images[1:],test_size=0.2)\n",
        "  try:\n",
        "    for i in [\"Alluvial\",\"Red\",\"Black\",\"Clay\"]:\n",
        "      os.makedirs(f\"/content/drive/MyDrive/Annam ai/data/train/{i}\")\n",
        "      os.makedirs(f\"/content/drive/MyDrive/Annam ai/data/val/{i}\")\n",
        "\n",
        "    for i in train:\n",
        "      type_s = ifiles[i].split()[0]\n",
        "      try :\n",
        "        if type_s in [\"Alluvial\",\"Red\",\"Black\",\"Clay\"]:\n",
        "          os.rename(f\"/content/drive/MyDrive/Annam ai/soil_classification-2025/train/{i}\",f\"/content/drive/MyDrive/Annam ai/data/train/{type_s}/{i}\")\n",
        "      except : pass\n",
        "\n",
        "    for i in val:\n",
        "      try :\n",
        "        type_s = ifiles[i].split()[0]\n",
        "        if type_s in [\"Alluvial\",\"Red\",\"Black\",\"Clay\"]:\n",
        "          os.rename(f\"/content/drive/MyDrive/Annam ai/soil_classification-2025/train/{i}\",f\"/content/drive/MyDrive/Annam ai/data/val/{type_s}/{i}\")\n",
        "      except : pass\n",
        "  except : pass\n"
      ],
      "metadata": {
        "id": "Y2VhrDAjg_By"
      },
      "execution_count": 6,
      "outputs": []
    },
    {
      "cell_type": "code",
      "source": [
        "with open(\"/content/drive/MyDrive/Annam ai/data/test_ans.csv\",'w') as f:\n",
        "  f.write(\"image_id,label\\n\")\n",
        "  f.writelines([f\"{i},{ifiles[i].split()[0]}\\n\" for i in val])"
      ],
      "metadata": {
        "id": "zFaVBf9_oOML"
      },
      "execution_count": 41,
      "outputs": []
    },
    {
      "cell_type": "code",
      "source": [
        "data_dir = r\"/content/drive/MyDrive/Annam ai/data/train\"\n",
        "\n",
        "train_dataset = datasets.ImageFolder(root=data_dir, transform=data_augmenter)\n",
        "targets = [label for _, label in train_dataset]\n",
        "class_counts = [targets.count(i) for i in range(4)]\n",
        "print(class_counts)\n",
        "weights = 1. / torch.tensor(class_counts, dtype=torch.float)\n",
        "samples_weights = weights[targets]\n",
        "sampler = WeightedRandomSampler(samples_weights, len(samples_weights), replacement=True)\n",
        "\n",
        "train_loader = DataLoader(train_dataset, batch_size=32, sampler=sampler)"
      ],
      "metadata": {
        "colab": {
          "base_uri": "https://localhost:8080/"
        },
        "id": "lVFBBpBlprkN",
        "outputId": "f6dfb82a-1138-423c-85ed-81d0facded39"
      },
      "execution_count": 7,
      "outputs": [
        {
          "output_type": "stream",
          "name": "stdout",
          "text": [
            "[506, 219, 190, 247]\n"
          ]
        }
      ]
    },
    {
      "cell_type": "code",
      "source": [
        "data_dir = r\"/content/drive/MyDrive/Annam ai/data/val\"\n",
        "\n",
        "val_dataset = datasets.ImageFolder(root=data_dir, transform=test_transformer)\n",
        "val_loader = DataLoader(val_dataset, batch_size=32)"
      ],
      "metadata": {
        "id": "8GZsuVWXrW72"
      },
      "execution_count": 9,
      "outputs": []
    },
    {
      "cell_type": "code",
      "source": [
        "device = torch.device('cuda' if torch.cuda.is_available() else 'cpu')\n",
        "\n",
        "model = timm.create_model('efficientnet_b3', pretrained=True, num_classes=4)\n",
        "model = model.to(device)\n",
        "\n",
        "class_weights = torch.tensor(weights).to(device)\n",
        "criterion = nn.CrossEntropyLoss(weight=class_weights)\n",
        "optimizer = optim.Adam(model.parameters(), lr=1e-4)"
      ],
      "metadata": {
        "colab": {
          "base_uri": "https://localhost:8080/",
          "height": 208,
          "referenced_widgets": [
            "ace483718e8547878763db65fb117397",
            "7473aeacc6444210bb5e9cbe93c0a8e5",
            "4731241993e14f2fb4aed124330bf333",
            "0c27e8c7875747e8b5a0e51067adb01f",
            "b89b67415bca4bb1affe9d5d74c1f6af",
            "6ac0235904e14a21a295a887d3c9b5ab",
            "e3d2c97da1da4975a958a0e6bc71d12a",
            "4db9c811f1854f5d8c9702c78a8a126e",
            "5ea49b15f9bd4124a8d66c3e506c1323",
            "6949f0785a584cea9ee588dce09bc489",
            "abe7edeffa6d43fab1cfb4564e4db981"
          ]
        },
        "id": "xusHt6J1qwQy",
        "outputId": "d7021c13-d9e2-481b-cd1e-64ce86635e77"
      },
      "execution_count": 8,
      "outputs": [
        {
          "output_type": "stream",
          "name": "stderr",
          "text": [
            "/usr/local/lib/python3.11/dist-packages/huggingface_hub/utils/_auth.py:94: UserWarning: \n",
            "The secret `HF_TOKEN` does not exist in your Colab secrets.\n",
            "To authenticate with the Hugging Face Hub, create a token in your settings tab (https://huggingface.co/settings/tokens), set it as secret in your Google Colab and restart your session.\n",
            "You will be able to reuse this secret in all of your notebooks.\n",
            "Please note that authentication is recommended but still optional to access public models or datasets.\n",
            "  warnings.warn(\n"
          ]
        },
        {
          "output_type": "display_data",
          "data": {
            "text/plain": [
              "model.safetensors:   0%|          | 0.00/49.3M [00:00<?, ?B/s]"
            ],
            "application/vnd.jupyter.widget-view+json": {
              "version_major": 2,
              "version_minor": 0,
              "model_id": "ace483718e8547878763db65fb117397"
            }
          },
          "metadata": {}
        },
        {
          "output_type": "stream",
          "name": "stderr",
          "text": [
            "<ipython-input-8-0622258167f1>:6: UserWarning: To copy construct from a tensor, it is recommended to use sourceTensor.clone().detach() or sourceTensor.clone().detach().requires_grad_(True), rather than torch.tensor(sourceTensor).\n",
            "  class_weights = torch.tensor(weights).to(device)\n"
          ]
        }
      ]
    },
    {
      "cell_type": "code",
      "source": [
        "def train(model, loader, optimizer, criterion):\n",
        "    model.train()\n",
        "    running_loss = 0.0\n",
        "    correct, total = 0, 0\n",
        "\n",
        "    for images, labels in loader:\n",
        "        images, labels = images.to(device), labels.to(device)\n",
        "        optimizer.zero_grad()\n",
        "        outputs = model(images)\n",
        "\n",
        "        loss = criterion(outputs, labels)\n",
        "        loss.backward()\n",
        "        optimizer.step()\n",
        "\n",
        "        running_loss += loss.item()\n",
        "        _, preds = torch.max(outputs, 1)\n",
        "        correct += (preds == labels).sum().item()\n",
        "        total += labels.size(0)\n",
        "\n",
        "    acc = correct / total\n",
        "    return running_loss / len(loader), acc"
      ],
      "metadata": {
        "id": "Sa6oWrvAqzY3"
      },
      "execution_count": 10,
      "outputs": []
    },
    {
      "cell_type": "code",
      "source": [
        "def evaluate(model, loader):\n",
        "    model.eval()\n",
        "    all_preds, all_labels = [], []\n",
        "\n",
        "    with torch.no_grad():\n",
        "        for images, labels in loader:\n",
        "            images = images.to(device)\n",
        "            outputs = model(images)\n",
        "            _, preds = torch.max(outputs, 1)\n",
        "            all_preds.extend(preds.cpu().numpy())\n",
        "            all_labels.extend(labels.numpy())\n",
        "\n",
        "    print(classification_report(all_labels, all_preds, target_names=train_dataset.classes))"
      ],
      "metadata": {
        "id": "-ARn88ZarIOc"
      },
      "execution_count": 35,
      "outputs": []
    },
    {
      "cell_type": "code",
      "source": [
        "epochs = 50\n",
        "for epoch in range(epochs):\n",
        "    train_loss, train_acc = train(model, train_loader, optimizer, criterion)\n",
        "    print(f\"Epoch {epoch+1}/{epochs} - Loss: {train_loss:.4f}, Acc: {train_acc:.4f}\")"
      ],
      "metadata": {
        "id": "Tuuu_wplrH9_",
        "colab": {
          "base_uri": "https://localhost:8080/"
        },
        "outputId": "f5a67c3b-208b-4a02-ed75-3f1bef580750"
      },
      "execution_count": 37,
      "outputs": [
        {
          "output_type": "stream",
          "name": "stdout",
          "text": [
            "Epoch 1/15 - Loss: 0.0119, Acc: 0.9948\n",
            "Epoch 2/15 - Loss: 0.0115, Acc: 0.9940\n",
            "Epoch 3/15 - Loss: 0.0159, Acc: 0.9957\n",
            "Epoch 4/15 - Loss: 0.0116, Acc: 0.9966\n",
            "Epoch 5/15 - Loss: 0.0086, Acc: 0.9966\n",
            "Epoch 6/15 - Loss: 0.0518, Acc: 0.9923\n",
            "Epoch 7/15 - Loss: 0.0302, Acc: 0.9888\n",
            "Epoch 8/15 - Loss: 0.0394, Acc: 0.9897\n",
            "Epoch 9/15 - Loss: 0.0160, Acc: 0.9923\n",
            "Epoch 10/15 - Loss: 0.0182, Acc: 0.9957\n",
            "Epoch 11/15 - Loss: 0.0203, Acc: 0.9948\n",
            "Epoch 12/15 - Loss: 0.0141, Acc: 0.9957\n",
            "Epoch 13/15 - Loss: 0.0152, Acc: 0.9948\n",
            "Epoch 14/15 - Loss: 0.0076, Acc: 0.9966\n",
            "Epoch 15/15 - Loss: 0.0118, Acc: 0.9948\n"
          ]
        }
      ]
    },
    {
      "cell_type": "code",
      "source": [
        "evaluate(model, val_loader)"
      ],
      "metadata": {
        "id": "Q26rQVz94fos",
        "colab": {
          "base_uri": "https://localhost:8080/"
        },
        "outputId": "9bb2044c-8373-4fc4-d0de-974e0c3482fc"
      },
      "execution_count": 40,
      "outputs": [
        {
          "output_type": "stream",
          "name": "stdout",
          "text": [
            "              precision    recall  f1-score   support\n",
            "\n",
            "    Alluvial       1.00      0.91      0.95        22\n",
            "       Black       0.92      1.00      0.96        12\n",
            "        Clay       0.90      1.00      0.95         9\n",
            "         Red       1.00      1.00      1.00        15\n",
            "\n",
            "    accuracy                           0.97        58\n",
            "   macro avg       0.96      0.98      0.96        58\n",
            "weighted avg       0.97      0.97      0.97        58\n",
            "\n"
          ]
        }
      ]
    },
    {
      "cell_type": "code",
      "source": [
        "torch.save(model.state_dict(), '/content/drive/MyDrive/Annam ai/soil_classification-2025/model1.pth')"
      ],
      "metadata": {
        "id": "ZEwXT1pP6gP2"
      },
      "execution_count": 20,
      "outputs": []
    }
  ]
}